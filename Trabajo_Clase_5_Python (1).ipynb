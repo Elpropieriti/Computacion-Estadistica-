{
  "nbformat": 4,
  "nbformat_minor": 0,
  "metadata": {
    "colab": {
      "name": "Trabajo Clase 5 Python.ipynb",
      "provenance": [],
      "collapsed_sections": []
    },
    "kernelspec": {
      "name": "python3",
      "display_name": "Python 3"
    },
    "language_info": {
      "name": "python"
    }
  },
  "cells": [
    {
      "cell_type": "code",
      "execution_count": 30,
      "metadata": {
        "colab": {
          "base_uri": "https://localhost:8080/"
        },
        "id": "2L4L-VKHfLYl",
        "outputId": "44dee484-fe78-4289-fd7a-db6912a070f3"
      },
      "outputs": [
        {
          "output_type": "stream",
          "name": "stdout",
          "text": [
            "valores menores a cero en  damg_perc    0\n",
            "dtype: int64\n",
            "valores menores a cero en  damg_perc    0\n",
            "dtype: int64\n",
            "      damg_perc\n",
            "0      1.130997\n",
            "1      0.421201\n",
            "2      0.686309\n",
            "3   1436.363955\n",
            "4      3.128625\n",
            "..          ...\n",
            "95     0.128136\n",
            "96    31.458943\n",
            "97     0.335814\n",
            "98     0.957294\n",
            "99     0.036216\n",
            "\n",
            "[100 rows x 1 columns]\n",
            "damg_perc    0.000027\n",
            "dtype: float64\n",
            "damg_perc    3388.713763\n",
            "dtype: float64\n"
          ]
        }
      ],
      "source": [
        "import pandas as pd\n",
        "import numpy as np\n",
        "import seaborn as sns\n",
        "\n",
        "\n",
        "##Creacion Data Frame con datos artificiales.\n",
        "#Generar unos datos de la dostribución log-normal, con un promedio de daño del 8% y una desviación estandar de 3.6 (si algún valor es negativo se convierte a 0)\n",
        "\n",
        "np.random.seed(2022)\n",
        "mean, sigma = 1/8, 3.6\n",
        "porc_enf = np.random.lognormal(mean,sigma,100)#revisar\n",
        "porc_enf = pd.DataFrame(porc_enf,columns=['damg_perc'])\n",
        "\n",
        "print(\"valores menores a cero en \", \n",
        "      porc_enf[porc_enf['damg_perc'] <0].count()) \n",
        "\n",
        "porc_enf.loc[porc_enf.damg_perc<0,\"damg_perc\"]=0\n",
        "\n",
        "print(\"valores menores a cero en \", \n",
        "      porc_enf[porc_enf['damg_perc'] <0].count()) \n",
        "\n",
        "print(porc_enf)\n",
        "print(porc_enf.min())\n",
        "print(porc_enf.max())\n",
        "\n"
      ]
    },
    {
      "cell_type": "code",
      "source": [
        "#Extraer media, mediana, quartiles y percentiles (desde 5% hasta 95% cada 5)\n",
        "\n",
        "media = porc_enf[\"damg_perc\"].mean()\n",
        "mediana = porc_enf[\"damg_perc\"].median()\n",
        "\n",
        "print(f\"La mediana es:{mediana}\")\n",
        "print(f\"La media es:{media}\")\n",
        "\n",
        "porc_enf_serie = pd.Series(porc_enf[\"damg_perc\"])##convertir el DT en una serie.\n",
        "print(porc_enf_serie.quantile([0.25, 0.75, 0.90, 0.95]))\n",
        "\n",
        "arr_percnt=np.arange(0.05,0.95,0.05)#Crear un array determiando\n",
        "\n",
        "print(porc_enf_serie.quantile(arr_percnt))\n"
      ],
      "metadata": {
        "id": "i6LGzXJOhLBA",
        "colab": {
          "base_uri": "https://localhost:8080/"
        },
        "outputId": "cc1af5cb-20af-4380-f73d-949411be1c91"
      },
      "execution_count": 46,
      "outputs": [
        {
          "output_type": "stream",
          "name": "stdout",
          "text": [
            "La mediana es:1.1719747684763848\n",
            "La media es:87.059562081388\n",
            "0.25     0.107658\n",
            "0.75    13.341902\n",
            "0.90    46.868029\n",
            "0.95    79.143182\n",
            "Name: damg_perc, dtype: float64\n",
            "0.05     0.004430\n",
            "0.10     0.008090\n",
            "0.15     0.037806\n",
            "0.20     0.061125\n",
            "0.25     0.107658\n",
            "0.30     0.196086\n",
            "0.35     0.363922\n",
            "0.40     0.598740\n",
            "0.45     0.770384\n",
            "0.50     1.171975\n",
            "0.55     2.646871\n",
            "0.60     3.598332\n",
            "0.65     4.371281\n",
            "0.70     8.844703\n",
            "0.75    13.341902\n",
            "0.80    23.679300\n",
            "0.85    34.066971\n",
            "0.90    46.868029\n",
            "Name: damg_perc, dtype: float64\n"
          ]
        }
      ]
    },
    {
      "cell_type": "code",
      "source": [
        "#Categorizar la variable según la escala diagramtica del articulo referencia\n",
        "cat_enf = []\n",
        "for pe_i in porc_enf['damg_perc']:\n",
        "  if(pe_i <= 2):\n",
        "    cat_enf.append('2%')\n",
        "  elif(pe_i <= 4):\n",
        "    cat_enf.append('4%')\n",
        "  elif(pe_i <= 8):\n",
        "    cat_enf.append('8%')\n",
        "  elif(pe_i <= 12):\n",
        "    cat_enf.append('12%')\n",
        "  elif(pe_i <= 27):\n",
        "    cat_enf.append('27%')\n",
        "  elif(pe_i <= 45):\n",
        "    cat_enf.append('45%')\n",
        "  elif(pe_i <= 71):\n",
        "    cat_enf.append('71%')\n",
        "  else:\n",
        "    cat_enf.append('93%')\n",
        "\n",
        "cat_enf_serie = pd.Series(cat_enf)\n",
        "cat_enf_serie.value_counts().plot(kind='bar')"
      ],
      "metadata": {
        "id": "Q_WV8tFGs9mw",
        "colab": {
          "base_uri": "https://localhost:8080/",
          "height": 294
        },
        "outputId": "448cd743-1b6b-421f-98ec-1f118c070145"
      },
      "execution_count": 49,
      "outputs": [
        {
          "output_type": "execute_result",
          "data": {
            "text/plain": [
              "<matplotlib.axes._subplots.AxesSubplot at 0x7fc51b2ad8d0>"
            ]
          },
          "metadata": {},
          "execution_count": 49
        },
        {
          "output_type": "display_data",
          "data": {
            "text/plain": [
              "<Figure size 432x288 with 1 Axes>"
            ],
            "image/png": "[encoded data removed]"
          },
          "metadata": {
            "needs_background": "light"
          }
        }
      ]
    },
    {
      "cell_type": "code",
      "source": [
        "#Posición en la que debo ubicarme en la escala para estimar la severidad real\n",
        "\n",
        "cont = cat_enf_serie.value_counts()\n",
        "\n",
        "frec1 = cont*[2.5, 5, 10, 20, 40, 80]#revisar\n",
        "\n",
        "print(frec1.sum()/100)\n",
        "\n"
      ],
      "metadata": {
        "id": "6yHAUi1YS7B_"
      },
      "execution_count": null,
      "outputs": []
    },
    {
      "cell_type": "code",
      "source": [
        "sns.kdeplot(porc_enf[\"damg_perc\"])"
      ],
      "metadata": {
        "colab": {
          "base_uri": "https://localhost:8080/",
          "height": 297
        },
        "id": "HBiSKPvwNI3j",
        "outputId": "e94c7889-4187-484b-bb3a-8bd686db1e17"
      },
      "execution_count": 54,
      "outputs": [
        {
          "output_type": "execute_result",
          "data": {
            "text/plain": [
              "<matplotlib.axes._subplots.AxesSubplot at 0x7fc51af9d790>"
            ]
          },
          "metadata": {},
          "execution_count": 54
        },
        {
          "output_type": "display_data",
          "data": {
            "text/plain": [
              "<Figure size 432x288 with 1 Axes>"
            ],
            "image/png": "[encoded data removed]"
          },
          "metadata": {
            "needs_background": "light"
          }
        }
      ]
    }
  ]
}