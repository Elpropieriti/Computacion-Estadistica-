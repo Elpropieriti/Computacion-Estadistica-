{
  "nbformat": 4,
  "nbformat_minor": 0,
  "metadata": {
    "colab": {
      "name": "Ensayo",
      "provenance": []
    },
    "kernelspec": {
      "name": "python3",
      "display_name": "Python 3"
    },
    "language_info": {
      "name": "python"
    }
  },
  "cells": [
    {
      "cell_type": "markdown",
      "source": [
        "##Colocar una imagen desde internet\n",
        "\n",
        "\n",
        "![](https://img.wattpad.com/207ec2aaf1dfe930892a37f4b0fb911c779d2a25/68747470733a2f2f73332e616d617a6f6e6177732e636f6d2f776174747061642d6d656469612d736572766963652f53746f7279496d6167652f645265494d717843416c636170413d3d2d3538302e3134376261623139343637663664653234343833383837373634312e6a7067)\n"
      ],
      "metadata": {
        "id": "FV0AI_Iin_S7"
      }
    },
    {
      "cell_type": "markdown",
      "source": [
        "\n",
        "##Escribir una matrix 4x4 (en $\\LaTeX$)\n",
        "\n",
        "\\begin{equation}\n",
        "\\begin{bmatrix}\n",
        "6 & 8 & 1 &2\\\\\n",
        "a & b & z& y\\\\\n",
        "σ & ε  & Δ &?\\\\\n",
        "6 & 8 & 1 &2\n",
        "\\end{bmatrix}\n",
        "\\end{equation}"
      ],
      "metadata": {
        "id": "MqARC7ntoJAx"
      }
    },
    {
      "cell_type": "markdown",
      "source": [
        "##Ecuación estadistica (en $\\LaTeX$)\n",
        "$$A_{s}=\\frac{\\overline{X}-Mo}{S}$$\n"
      ],
      "metadata": {
        "id": "5Q2tcc64m_hH"
      }
    }
  ]
}