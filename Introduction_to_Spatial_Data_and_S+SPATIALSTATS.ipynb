{
  "nbformat": 4,
  "nbformat_minor": 0,
  "metadata": {
    "colab": {
      "name": "Introduction to Spatial Data and S+SPATIALSTATS.ipynb",
      "provenance": []
    },
    "kernelspec": {
      "name": "python3",
      "display_name": "Python 3"
    },
    "language_info": {
      "name": "python"
    }
  },
  "cells": [
    {
      "cell_type": "markdown",
      "source": [
        "\n",
        "#1. Introducción a los Datos Espaciales.\n",
        "\n",
        "{Martin Sebastian Perez Pedraza}\n",
        "\n",
        "\n",
        "\n",
        "#1.1Tipos de Datos Espaciales.\n",
        "Los datos espaciales consisten en mediciones u observaciones tomadas en ubicaciones específicas o dentro de regiones específicas. Incluyendo también las ubicaciones o posiciones relativas de los valores de los datos estos pueden ser; puntos o áreas referenciadas. Además de poder presentar variables continuas como discretas.\n",
        "\n",
        "Existen tres clases de datos espaciales; datos geoestadísticos, datos reticulares y patrones de puntos espaciales.\n",
        "\n",
        "#1.1.1Datos Geoestadísticos#\n",
        "\n",
        "Los datos geo estadísticos, también denominados datos de campo aleatorios, son mediciones tomadas en ubicaciones fijas. Usualmente son espacialmente continuos. \n",
        "Por ejemplo concentraciones de contaminantes en las estaciones de monitoreo en ciudades\n",
        "#1.1.2Lattice Data.\n",
        "\n",
        "Son observaciones asociadas con regiones espaciales, donde las regiones pueden estar espaciadas regular o irregularmente. Un ejemplo los datos reticulares son información obtenida por teledetección desde satélites.\n",
        "Por ejemplo la superficie terrestre se divide en una serie de pequeños rectángulos (píxeles) y la los datos se reciben como una red regular en R^2.¿Son observaciones con una dirección el espacio?. \n",
        " \n",
        "\n",
        "#1.1.3 Patrones de Puntos Espaciales.#\n",
        "\n",
        "Los datos de patrones de puntos surgen cuando las ubicaciones mismas son la variable de interés. Los patrones de puntos espaciales consisten en un número finito de ubicaciones observadas en una región espacial. Identificación de aleatoriedad espacial, agrupamiento o registro La aleatoriedad  suele ser el primer análisis que se realiza cuando se observan patrones de puntos.\n",
        "Por ejemplo ubicaciones de una especie de árbol en una región boscosa y la ubicación de los epicentros de los terremotos.\n",
        "\n",
        "#1.2.1 Modelado de Datos.\n",
        "\n",
        "Los datos espaciales a menudo se pueden descomponer en dos componentes principales de variación de la siguiente manera.\n",
        "\n",
        "\n",
        "**Datos = variación a gran escala + variación a pequeña escala.**\n",
        "\n",
        "La variación a gran escala puede estar compuesta por características entre puntos o entre regiones que representan tendencias o gradientes globales. La variación a gran escala también puede modelarse como patrones locales de dependencia.\n",
        "\n",
        "La variación a pequeña escala se puede considerar como un término de error y se puede caracterizar por fuentes como el error de medición, la variabilidad dentro de la región y la variabilidad inherente del sitio.\n",
        "\n",
        "#1.2.2 Recopilación y precisión de datos\n",
        "\n",
        "Las regiones, en particular, pueden tener muchos tamaños y formas; el método y la resolución utilizados para representar las regiones en una base de datos pueden ser importantes como posibles fuentes de error.\n",
        "\n",
        "Los modelos de dependencia espacial dependen del área, haciendo que se puedan presentarse inconvenientes como; un efecto de borde (cambio abrupto entre áreas), la presencia de valores atípicos espaciales locales, método y resolución usada durante el muestreo.\n",
        "\n",
        "\n",
        "#1.2.3 Estacionariedad.\n",
        "\n",
        "El concepto se refiere a que las propiedades de la data no varían con respecto al tiempo. En otras palabras significa que su variación (la forma en la que cambia) no cambia en función del tiempo.\n",
        "\n",
        "#1.2.4 Isotropía#\n",
        "La isotropía es la característica de algunos fenómenos en el espacio cuyas propiedades no dependen de la dirección en que son examinadas.\n",
        "\n",
        "#1.2.5 Escala\n",
        "\n",
        "La escala espacial provee una forma de presentar longitudes relativas, áreas, distancia,tamaño,que permite orientar los fenomenos espaciales.\n",
        "\n"
      ],
      "metadata": {
        "id": "TJgstgzRAkc6"
      }
    }
  ]
}